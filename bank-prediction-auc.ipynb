{
 "cells": [
  {
   "cell_type": "code",
   "execution_count": 1,
   "id": "a112049e",
   "metadata": {
    "_cell_guid": "b1076dfc-b9ad-4769-8c92-a6c4dae69d19",
    "_uuid": "8f2839f25d086af736a60e9eeb907d3b93b6e0e5",
    "execution": {
     "iopub.execute_input": "2025-08-29T19:54:39.697633Z",
     "iopub.status.busy": "2025-08-29T19:54:39.696616Z",
     "iopub.status.idle": "2025-08-29T19:54:39.702257Z",
     "shell.execute_reply": "2025-08-29T19:54:39.701092Z"
    },
    "papermill": {
     "duration": 0.018846,
     "end_time": "2025-08-29T19:54:39.704138",
     "exception": false,
     "start_time": "2025-08-29T19:54:39.685292",
     "status": "completed"
    },
    "tags": []
   },
   "outputs": [],
   "source": [
    "# %%time\n",
    "# !pip install --target=/kaggle/working --extra-index-url=https://pypi.nvidia.com \"cudf-cu12==25.2.*\" \"cuml-cu12==25.2.*\"\n",
    "# !rm -rf /kaggle/working/numpy*"
   ]
  },
  {
   "cell_type": "code",
   "execution_count": 2,
   "id": "7abf974d",
   "metadata": {
    "execution": {
     "iopub.execute_input": "2025-08-29T19:54:39.723399Z",
     "iopub.status.busy": "2025-08-29T19:54:39.723043Z",
     "iopub.status.idle": "2025-08-29T19:54:39.727501Z",
     "shell.execute_reply": "2025-08-29T19:54:39.726593Z"
    },
    "papermill": {
     "duration": 0.0161,
     "end_time": "2025-08-29T19:54:39.729325",
     "exception": false,
     "start_time": "2025-08-29T19:54:39.713225",
     "status": "completed"
    },
    "tags": []
   },
   "outputs": [],
   "source": [
    "# !pip install scikit-learn==1.5.2 koolbox\n",
    "\n"
   ]
  },
  {
   "cell_type": "code",
   "execution_count": 3,
   "id": "322b7fb1",
   "metadata": {
    "execution": {
     "iopub.execute_input": "2025-08-29T19:54:39.749990Z",
     "iopub.status.busy": "2025-08-29T19:54:39.749594Z",
     "iopub.status.idle": "2025-08-29T19:54:39.754034Z",
     "shell.execute_reply": "2025-08-29T19:54:39.753028Z"
    },
    "papermill": {
     "duration": 0.017526,
     "end_time": "2025-08-29T19:54:39.755786",
     "exception": false,
     "start_time": "2025-08-29T19:54:39.738260",
     "status": "completed"
    },
    "tags": []
   },
   "outputs": [],
   "source": [
    "# import cudf\n",
    "# cudf.__version__"
   ]
  },
  {
   "cell_type": "code",
   "execution_count": 4,
   "id": "a5264d22",
   "metadata": {
    "execution": {
     "iopub.execute_input": "2025-08-29T19:54:39.774549Z",
     "iopub.status.busy": "2025-08-29T19:54:39.774180Z",
     "iopub.status.idle": "2025-08-29T19:54:39.778445Z",
     "shell.execute_reply": "2025-08-29T19:54:39.777545Z"
    },
    "papermill": {
     "duration": 0.015564,
     "end_time": "2025-08-29T19:54:39.780198",
     "exception": false,
     "start_time": "2025-08-29T19:54:39.764634",
     "status": "completed"
    },
    "tags": []
   },
   "outputs": [],
   "source": [
    "\n",
    "# import cuml\n",
    "# cuml"
   ]
  },
  {
   "cell_type": "code",
   "execution_count": 5,
   "id": "5aa6dde5",
   "metadata": {
    "execution": {
     "iopub.execute_input": "2025-08-29T19:54:39.798923Z",
     "iopub.status.busy": "2025-08-29T19:54:39.798549Z",
     "iopub.status.idle": "2025-08-29T19:54:44.657669Z",
     "shell.execute_reply": "2025-08-29T19:54:44.656435Z"
    },
    "papermill": {
     "duration": 4.871629,
     "end_time": "2025-08-29T19:54:44.660575",
     "exception": false,
     "start_time": "2025-08-29T19:54:39.788946",
     "status": "completed"
    },
    "tags": []
   },
   "outputs": [],
   "source": [
    "# %load_ext cudf.pandas\n",
    "\n",
    "import numpy as np, pandas as pd\n",
    "import matplotlib.pyplot as plt\n",
    "import category_encoders as ce\n",
    "\n",
    "pd.set_option('display.max_columns', 500)\n",
    "\n",
    "VER=1"
   ]
  },
  {
   "cell_type": "code",
   "execution_count": 6,
   "id": "67d8c72e",
   "metadata": {
    "execution": {
     "iopub.execute_input": "2025-08-29T19:54:44.680296Z",
     "iopub.status.busy": "2025-08-29T19:54:44.679782Z",
     "iopub.status.idle": "2025-08-29T19:54:45.275726Z",
     "shell.execute_reply": "2025-08-29T19:54:45.274300Z"
    },
    "papermill": {
     "duration": 0.607857,
     "end_time": "2025-08-29T19:54:45.277724",
     "exception": false,
     "start_time": "2025-08-29T19:54:44.669867",
     "status": "completed"
    },
    "tags": []
   },
   "outputs": [
    {
     "name": "stdout",
     "output_type": "stream",
     "text": [
      "XGBoost version 2.0.3\n"
     ]
    }
   ],
   "source": [
    "# from cuml.preprocessing import TargetEncoder\n",
    "from sklearn.model_selection import KFold\n",
    "import xgboost as xgb\n",
    "\n",
    "print(f\"XGBoost version {xgb.__version__}\")"
   ]
  },
  {
   "cell_type": "code",
   "execution_count": 7,
   "id": "a7b38502",
   "metadata": {
    "execution": {
     "iopub.execute_input": "2025-08-29T19:54:45.297784Z",
     "iopub.status.busy": "2025-08-29T19:54:45.297379Z",
     "iopub.status.idle": "2025-08-29T19:54:53.114569Z",
     "shell.execute_reply": "2025-08-29T19:54:53.113412Z"
    },
    "papermill": {
     "duration": 7.82979,
     "end_time": "2025-08-29T19:54:53.116506",
     "exception": false,
     "start_time": "2025-08-29T19:54:45.286716",
     "status": "completed"
    },
    "tags": []
   },
   "outputs": [],
   "source": [
    "# from sklearn.feature_selection import mutual_info_regression\n",
    "from sklearn.ensemble import HistGradientBoostingClassifier\n",
    "from sklearn.linear_model import LogisticRegression\n",
    "from sklearn.model_selection import StratifiedKFold\n",
    "from sklearn.metrics import accuracy_score, f1_score\n",
    "from catboost import CatBoostClassifier\n",
    "from lightgbm import LGBMClassifier\n",
    "import lightgbm as lgb\n",
    "from xgboost import XGBClassifier\n",
    "from scipy.special import logit\n",
    "import matplotlib.pyplot as plt\n",
    "import seaborn as sns\n",
    "import pandas as pd\n",
    "import numpy as np\n",
    "import warnings\n",
    "import joblib\n",
    "import shutil\n",
    "import optuna\n",
    "import glob\n",
    "import json\n",
    "\n",
    "warnings.filterwarnings('ignore')"
   ]
  },
  {
   "cell_type": "code",
   "execution_count": 8,
   "id": "27035946",
   "metadata": {
    "execution": {
     "iopub.execute_input": "2025-08-29T19:54:53.139458Z",
     "iopub.status.busy": "2025-08-29T19:54:53.138596Z",
     "iopub.status.idle": "2025-08-29T19:54:57.003447Z",
     "shell.execute_reply": "2025-08-29T19:54:57.002518Z"
    },
    "papermill": {
     "duration": 3.877548,
     "end_time": "2025-08-29T19:54:57.005295",
     "exception": false,
     "start_time": "2025-08-29T19:54:53.127747",
     "status": "completed"
    },
    "tags": []
   },
   "outputs": [],
   "source": [
    "train=pd.read_csv('/kaggle/input/playground-series-s5e8/train.csv',index_col='id')\n",
    "test=pd.read_csv('/kaggle/input/playground-series-s5e8/test.csv',index_col='id') \n",
    "# augment_data = pd.read_csv('/kaggle/input/data-augmentation/df_synth.csv')\n",
    "# train=train.sample(frac=0.1).reset_index(drop=True)\n",
    "# test=test.sample(frac=0.1).reset_index(drop=True)\n",
    "train.shape\n",
    "test['y'] = -1"
   ]
  },
  {
   "cell_type": "code",
   "execution_count": 9,
   "id": "d086a65c",
   "metadata": {
    "execution": {
     "iopub.execute_input": "2025-08-29T19:54:57.024375Z",
     "iopub.status.busy": "2025-08-29T19:54:57.024043Z",
     "iopub.status.idle": "2025-08-29T19:54:57.229728Z",
     "shell.execute_reply": "2025-08-29T19:54:57.228515Z"
    },
    "papermill": {
     "duration": 0.2173,
     "end_time": "2025-08-29T19:54:57.231570",
     "exception": false,
     "start_time": "2025-08-29T19:54:57.014270",
     "status": "completed"
    },
    "tags": []
   },
   "outputs": [
    {
     "name": "stdout",
     "output_type": "stream",
     "text": [
      "Original data shape (45211, 17)\n"
     ]
    },
    {
     "data": {
      "text/html": [
       "<div>\n",
       "<style scoped>\n",
       "    .dataframe tbody tr th:only-of-type {\n",
       "        vertical-align: middle;\n",
       "    }\n",
       "\n",
       "    .dataframe tbody tr th {\n",
       "        vertical-align: top;\n",
       "    }\n",
       "\n",
       "    .dataframe thead th {\n",
       "        text-align: right;\n",
       "    }\n",
       "</style>\n",
       "<table border=\"1\" class=\"dataframe\">\n",
       "  <thead>\n",
       "    <tr style=\"text-align: right;\">\n",
       "      <th></th>\n",
       "      <th>age</th>\n",
       "      <th>job</th>\n",
       "      <th>marital</th>\n",
       "      <th>education</th>\n",
       "      <th>default</th>\n",
       "      <th>balance</th>\n",
       "      <th>housing</th>\n",
       "      <th>loan</th>\n",
       "      <th>contact</th>\n",
       "      <th>day</th>\n",
       "      <th>month</th>\n",
       "      <th>duration</th>\n",
       "      <th>campaign</th>\n",
       "      <th>pdays</th>\n",
       "      <th>previous</th>\n",
       "      <th>poutcome</th>\n",
       "      <th>y</th>\n",
       "    </tr>\n",
       "    <tr>\n",
       "      <th>id</th>\n",
       "      <th></th>\n",
       "      <th></th>\n",
       "      <th></th>\n",
       "      <th></th>\n",
       "      <th></th>\n",
       "      <th></th>\n",
       "      <th></th>\n",
       "      <th></th>\n",
       "      <th></th>\n",
       "      <th></th>\n",
       "      <th></th>\n",
       "      <th></th>\n",
       "      <th></th>\n",
       "      <th></th>\n",
       "      <th></th>\n",
       "      <th></th>\n",
       "      <th></th>\n",
       "    </tr>\n",
       "  </thead>\n",
       "  <tbody>\n",
       "    <tr>\n",
       "      <th>1000000</th>\n",
       "      <td>58</td>\n",
       "      <td>management</td>\n",
       "      <td>married</td>\n",
       "      <td>tertiary</td>\n",
       "      <td>no</td>\n",
       "      <td>2143</td>\n",
       "      <td>yes</td>\n",
       "      <td>no</td>\n",
       "      <td>unknown</td>\n",
       "      <td>5</td>\n",
       "      <td>may</td>\n",
       "      <td>261</td>\n",
       "      <td>1</td>\n",
       "      <td>-1</td>\n",
       "      <td>0</td>\n",
       "      <td>unknown</td>\n",
       "      <td>0</td>\n",
       "    </tr>\n",
       "    <tr>\n",
       "      <th>1000001</th>\n",
       "      <td>44</td>\n",
       "      <td>technician</td>\n",
       "      <td>single</td>\n",
       "      <td>secondary</td>\n",
       "      <td>no</td>\n",
       "      <td>29</td>\n",
       "      <td>yes</td>\n",
       "      <td>no</td>\n",
       "      <td>unknown</td>\n",
       "      <td>5</td>\n",
       "      <td>may</td>\n",
       "      <td>151</td>\n",
       "      <td>1</td>\n",
       "      <td>-1</td>\n",
       "      <td>0</td>\n",
       "      <td>unknown</td>\n",
       "      <td>0</td>\n",
       "    </tr>\n",
       "    <tr>\n",
       "      <th>1000002</th>\n",
       "      <td>33</td>\n",
       "      <td>entrepreneur</td>\n",
       "      <td>married</td>\n",
       "      <td>secondary</td>\n",
       "      <td>no</td>\n",
       "      <td>2</td>\n",
       "      <td>yes</td>\n",
       "      <td>yes</td>\n",
       "      <td>unknown</td>\n",
       "      <td>5</td>\n",
       "      <td>may</td>\n",
       "      <td>76</td>\n",
       "      <td>1</td>\n",
       "      <td>-1</td>\n",
       "      <td>0</td>\n",
       "      <td>unknown</td>\n",
       "      <td>0</td>\n",
       "    </tr>\n",
       "    <tr>\n",
       "      <th>1000003</th>\n",
       "      <td>47</td>\n",
       "      <td>blue-collar</td>\n",
       "      <td>married</td>\n",
       "      <td>unknown</td>\n",
       "      <td>no</td>\n",
       "      <td>1506</td>\n",
       "      <td>yes</td>\n",
       "      <td>no</td>\n",
       "      <td>unknown</td>\n",
       "      <td>5</td>\n",
       "      <td>may</td>\n",
       "      <td>92</td>\n",
       "      <td>1</td>\n",
       "      <td>-1</td>\n",
       "      <td>0</td>\n",
       "      <td>unknown</td>\n",
       "      <td>0</td>\n",
       "    </tr>\n",
       "    <tr>\n",
       "      <th>1000004</th>\n",
       "      <td>33</td>\n",
       "      <td>unknown</td>\n",
       "      <td>single</td>\n",
       "      <td>unknown</td>\n",
       "      <td>no</td>\n",
       "      <td>1</td>\n",
       "      <td>no</td>\n",
       "      <td>no</td>\n",
       "      <td>unknown</td>\n",
       "      <td>5</td>\n",
       "      <td>may</td>\n",
       "      <td>198</td>\n",
       "      <td>1</td>\n",
       "      <td>-1</td>\n",
       "      <td>0</td>\n",
       "      <td>unknown</td>\n",
       "      <td>0</td>\n",
       "    </tr>\n",
       "  </tbody>\n",
       "</table>\n",
       "</div>"
      ],
      "text/plain": [
       "         age           job  marital  education default  balance housing loan  \\\n",
       "id                                                                             \n",
       "1000000   58    management  married   tertiary      no     2143     yes   no   \n",
       "1000001   44    technician   single  secondary      no       29     yes   no   \n",
       "1000002   33  entrepreneur  married  secondary      no        2     yes  yes   \n",
       "1000003   47   blue-collar  married    unknown      no     1506     yes   no   \n",
       "1000004   33       unknown   single    unknown      no        1      no   no   \n",
       "\n",
       "         contact  day month  duration  campaign  pdays  previous poutcome  y  \n",
       "id                                                                            \n",
       "1000000  unknown    5   may       261         1     -1         0  unknown  0  \n",
       "1000001  unknown    5   may       151         1     -1         0  unknown  0  \n",
       "1000002  unknown    5   may        76         1     -1         0  unknown  0  \n",
       "1000003  unknown    5   may        92         1     -1         0  unknown  0  \n",
       "1000004  unknown    5   may       198         1     -1         0  unknown  0  "
      ]
     },
     "execution_count": 9,
     "metadata": {},
     "output_type": "execute_result"
    }
   ],
   "source": [
    "orig = pd.read_csv(\"/kaggle/input/bank-marketing-dataset-full/bank-full.csv\",delimiter=\";\") \n",
    "orig['y'] = orig.y.map({'yes':1,'no':0})\n",
    "orig['id'] = (np.arange(len(orig))+1e6).astype('int')\n",
    "orig = orig.set_index('id')\n",
    "print(\"Original data shape\", orig.shape )\n",
    "orig.head()"
   ]
  },
  {
   "cell_type": "code",
   "execution_count": 10,
   "id": "1b4170c6",
   "metadata": {
    "execution": {
     "iopub.execute_input": "2025-08-29T19:54:57.253493Z",
     "iopub.status.busy": "2025-08-29T19:54:57.252918Z",
     "iopub.status.idle": "2025-08-29T19:54:57.338665Z",
     "shell.execute_reply": "2025-08-29T19:54:57.337713Z"
    },
    "papermill": {
     "duration": 0.099324,
     "end_time": "2025-08-29T19:54:57.340540",
     "exception": false,
     "start_time": "2025-08-29T19:54:57.241216",
     "status": "completed"
    },
    "tags": []
   },
   "outputs": [],
   "source": [
    "combine = pd.concat([train,test,orig],axis=0)\n"
   ]
  },
  {
   "cell_type": "code",
   "execution_count": null,
   "id": "735ab711",
   "metadata": {
    "papermill": {
     "duration": 0.014878,
     "end_time": "2025-08-29T19:54:57.368856",
     "exception": false,
     "start_time": "2025-08-29T19:54:57.353978",
     "status": "completed"
    },
    "tags": []
   },
   "outputs": [],
   "source": []
  },
  {
   "cell_type": "code",
   "execution_count": 11,
   "id": "642d753e",
   "metadata": {
    "execution": {
     "iopub.execute_input": "2025-08-29T19:54:57.401707Z",
     "iopub.status.busy": "2025-08-29T19:54:57.400919Z",
     "iopub.status.idle": "2025-08-29T19:54:57.407251Z",
     "shell.execute_reply": "2025-08-29T19:54:57.405759Z"
    },
    "papermill": {
     "duration": 0.026807,
     "end_time": "2025-08-29T19:54:57.409398",
     "exception": false,
     "start_time": "2025-08-29T19:54:57.382591",
     "status": "completed"
    },
    "tags": []
   },
   "outputs": [],
   "source": [
    "# train2.y=train2.y.map({\"no\":0,'yes':1})"
   ]
  },
  {
   "cell_type": "code",
   "execution_count": 12,
   "id": "c2539ac9",
   "metadata": {
    "execution": {
     "iopub.execute_input": "2025-08-29T19:54:57.439389Z",
     "iopub.status.busy": "2025-08-29T19:54:57.438933Z",
     "iopub.status.idle": "2025-08-29T19:54:57.444292Z",
     "shell.execute_reply": "2025-08-29T19:54:57.443080Z"
    },
    "papermill": {
     "duration": 0.025919,
     "end_time": "2025-08-29T19:54:57.449549",
     "exception": false,
     "start_time": "2025-08-29T19:54:57.423630",
     "status": "completed"
    },
    "tags": []
   },
   "outputs": [],
   "source": [
    "# augment_data.columns=train.columns"
   ]
  },
  {
   "cell_type": "code",
   "execution_count": 13,
   "id": "0bc113cb",
   "metadata": {
    "execution": {
     "iopub.execute_input": "2025-08-29T19:54:57.472361Z",
     "iopub.status.busy": "2025-08-29T19:54:57.471988Z",
     "iopub.status.idle": "2025-08-29T19:54:57.477806Z",
     "shell.execute_reply": "2025-08-29T19:54:57.476304Z"
    },
    "papermill": {
     "duration": 0.018089,
     "end_time": "2025-08-29T19:54:57.479522",
     "exception": false,
     "start_time": "2025-08-29T19:54:57.461433",
     "status": "completed"
    },
    "tags": []
   },
   "outputs": [],
   "source": [
    "# from sklearn.preprocessing import LabelEncoder\n",
    "# le=LabelEncoder()\n",
    "# df=pd.DataFrame()\n",
    "# dict_lab=dict()\n",
    "# for col in train2.select_dtypes(include='object').columns:\n",
    "#     df[col] = le.fit_transform(train2[col])\n",
    "#     label_dict = {label: idx for idx, label in enumerate(le.classes_)}\n",
    "#     dict_lab[col]=label_dict\n",
    "\n",
    "# for key in dict_lab.keys():\n",
    "#     augment_data[key]=augment_data[key].map({k:v for v,k in dict_lab[key].items()})\n",
    "\n",
    "\n",
    "# train3=augment_data[augment_data.y==1]\n",
    "# train = pd.concat([train,train2,train3],axis=0,ignore_index=True).sample(frac=1.0).reset_index(drop=True)\n",
    "# print(\"Combined Train shape\", train.shape)"
   ]
  },
  {
   "cell_type": "code",
   "execution_count": 14,
   "id": "4f8bdd63",
   "metadata": {
    "execution": {
     "iopub.execute_input": "2025-08-29T19:54:57.500173Z",
     "iopub.status.busy": "2025-08-29T19:54:57.499610Z",
     "iopub.status.idle": "2025-08-29T19:54:57.516764Z",
     "shell.execute_reply": "2025-08-29T19:54:57.515513Z"
    },
    "papermill": {
     "duration": 0.029492,
     "end_time": "2025-08-29T19:54:57.518634",
     "exception": false,
     "start_time": "2025-08-29T19:54:57.489142",
     "status": "completed"
    },
    "tags": []
   },
   "outputs": [],
   "source": [
    "def data_process(df): # Source: https://www.kaggle.com/code/haohuanchen/ps-s5e8-lightgb-model-a-simple-starter\n",
    "    df = df.copy()\n",
    "    \n",
    "    def many_no(x):\n",
    "        if x['default']=='no' and x['housing']=='no' and x['loan']=='no':\n",
    "            return 21\n",
    "        if x['default']=='no' and x['housing']=='no'\\\n",
    "        or x['default']=='no' and x['loan']=='no'\\\n",
    "        or x['housing']=='no' and x['loan']=='no':\n",
    "            return 7\n",
    "        if x['default']=='no' or x['housing']=='no' or x['loan']=='no':\n",
    "            return 3\n",
    "        return 0\n",
    "    df['many_no']  = df.apply(lambda x: many_no(x), axis=1).astype(\"str\")\n",
    "    return df\n",
    "\n",
    "def data_process2(df):\n",
    "    df = df.copy()\n",
    "    \n",
    "    def credit(x):\n",
    "        credit_level = (x['default'] == 'no') + (x['housing'] == 'no') + (x['loan'] == 'no')\n",
    "        return {3: 27, 2: 9, 1: 3}.get(credit_level, 0)\n",
    "    df['credit'] = df.apply(lambda x: credit(x), axis=1)\n",
    "    \n",
    "    def risk(x):\n",
    "        risk_level = (x['default'] == 'yes') + (x['housing'] == 'yes') + (x['loan'] == 'yes')\n",
    "        return {3: 27, 2: 9, 1: 3}.get(risk_level, 0)\n",
    "    df['risk'] = df.apply(lambda x: risk(x), axis=1)\n",
    "    \n",
    "    df['balance_log_i'] = df['balance'].where(df['balance'] > -1, 0).apply(np.log1p)\n",
    "    df['duration_log_i'] = df['duration'].where(df['duration'] > -1, 0).apply(np.log1p)\n",
    "    \n",
    "    df['balance_log'] = df['balance'].where(df['balance'] > -1, 0).apply(np.cbrt)\n",
    "    df['duration_log'] = df['duration'].where(df['duration'] > -1, 0).apply(np.cbrt)\n",
    "    # df['campaign_log'] = df['campaign'].where(df['campaign'] > -1, 0).apply(np.log1p)\n",
    "    # df['previous_log'] = df['previous'].where(df['previous'] > -1, 0).apply(np.log1p)\n",
    "    \n",
    "    # month_map = {'jan':1,'feb':2,'mar':3,'apr':4,'may':5,'jun':6, 'jul':7,'aug':8,'sep':9,'oct':10,'nov':11,'dec':12}\n",
    "    # df['month'] = df['month'].map(month_map)\n",
    "  \n",
    "     \n",
    "    return df\n",
    "\n",
    " \n",
    " \n",
    "def NEW_FE(df):\n",
    "    \n",
    "    df['balance_log'] = np.log1p(df['balance'].clip(lower=0))\n",
    "    df['job_edu'] = df['job'].astype(str) + \"_\" + df['education'].astype(str)\n",
    "    df['contacted_before'] = (df['pdays'] != -1).astype(int)\n",
    "    df['age_squared'] = df['age'] ** 2\n",
    "\n",
    "    df['duration_sin'] = np.sin(2*np.pi * df['duration'] / 400)\n",
    "    df['duration_cos'] = np.cos(2*np.pi * df['duration'] / 400)\n",
    "\n",
    "    # month_map = {\n",
    "    # 'jan': 1, 'feb': 2, 'mar': 3, 'apr': 4,\n",
    "    # 'may': 5, 'jun': 6, 'jul': 7, 'aug': 8,\n",
    "    # 'sep': 9, 'oct': 10, 'nov': 11, 'dec': 12\n",
    "    # }\n",
    "    # df['month_num'] = df['month'].map(month_map).astype('int')\n",
    "\n",
    "    # df['month_sin'] = np.sin(2 * np.pi * df['month_num'] / 12)\n",
    "    # df['month_cos'] = np.cos(2 * np.pi * df['month_num'] / 12)\n",
    "\n",
    "    # df.drop('month_num',axis=1,inplace=True)\n",
    "    \n",
    "    return df\n",
    "\n",
    " \n",
    "def assign_group(age):\n",
    "        thresholds = [0,27.625,37.25, 46.875, 56.5,   66.125, 75.75, 185.375, 95.0]\n",
    "        for i, j in enumerate(thresholds):\n",
    "            if age <= j:\n",
    "                return i\n",
    "        return np.nan\n",
    "\n",
    " \n",
    "def assign_group2(age):\n",
    "        thresholds =[-8019. ,  2754.6, 13528.2, 24301.8, 35075.4, 45849. , 56622.6,\n",
    "       67396.2, 78169.8, 88943.4, 99717. ]\n",
    "        for i, j in enumerate(thresholds):\n",
    "            if age <= j:\n",
    "                return i\n",
    "        return np.nan\n",
    " \n"
   ]
  },
  {
   "cell_type": "code",
   "execution_count": 15,
   "id": "cbe95fe3",
   "metadata": {
    "execution": {
     "iopub.execute_input": "2025-08-29T19:54:57.611279Z",
     "iopub.status.busy": "2025-08-29T19:54:57.610910Z",
     "iopub.status.idle": "2025-08-29T19:54:58.782468Z",
     "shell.execute_reply": "2025-08-29T19:54:58.780979Z"
    },
    "papermill": {
     "duration": 1.183383,
     "end_time": "2025-08-29T19:54:58.784011",
     "exception": false,
     "start_time": "2025-08-29T19:54:57.600628",
     "status": "completed"
    },
    "tags": []
   },
   "outputs": [
    {
     "name": "stdout",
     "output_type": "stream",
     "text": [
      "[NUM] age has 78 unique and 0 NA\n",
      "[CAT] job has 12 unique and 0 NA\n",
      "[CAT] marital has 3 unique and 0 NA\n",
      "[CAT] education has 4 unique and 0 NA\n",
      "[CAT] default has 2 unique and 0 NA\n",
      "[NUM] balance has 8590 unique and 0 NA\n",
      "[CAT] housing has 2 unique and 0 NA\n",
      "[CAT] loan has 2 unique and 0 NA\n",
      "[CAT] contact has 3 unique and 0 NA\n",
      "[NUM] day has 31 unique and 0 NA\n",
      "[CAT] month has 12 unique and 0 NA\n",
      "[NUM] duration has 1824 unique and 0 NA\n",
      "[NUM] campaign has 52 unique and 0 NA\n",
      "[NUM] pdays has 628 unique and 0 NA\n",
      "[NUM] previous has 54 unique and 0 NA\n",
      "[CAT] poutcome has 4 unique and 0 NA\n",
      "CATS: ['job', 'marital', 'education', 'default', 'housing', 'loan', 'contact', 'month', 'poutcome']\n",
      "NUMS: ['age', 'balance', 'day', 'duration', 'campaign', 'pdays', 'previous']\n"
     ]
    }
   ],
   "source": [
    "CATS = []\n",
    "NUMS = []\n",
    "for c in combine.drop('y',axis=1).columns:\n",
    "    t = \"CAT\"\n",
    "    if combine[c].dtype=='object':\n",
    "        CATS.append(c)\n",
    "    else:\n",
    "        NUMS.append(c)\n",
    "        t = \"NUM\"\n",
    "    n = combine[c].nunique()\n",
    "    na = combine[c].isna().sum()\n",
    "    print(f\"[{t}] {c} has {n} unique and {na} NA\")\n",
    "print(\"CATS:\", CATS )\n",
    "print(\"NUMS:\", NUMS )"
   ]
  },
  {
   "cell_type": "code",
   "execution_count": 16,
   "id": "d65868ae",
   "metadata": {
    "execution": {
     "iopub.execute_input": "2025-08-29T19:54:58.805504Z",
     "iopub.status.busy": "2025-08-29T19:54:58.805112Z",
     "iopub.status.idle": "2025-08-29T19:54:59.562134Z",
     "shell.execute_reply": "2025-08-29T19:54:59.560719Z"
    },
    "papermill": {
     "duration": 0.769986,
     "end_time": "2025-08-29T19:54:59.563893",
     "exception": false,
     "start_time": "2025-08-29T19:54:58.793907",
     "status": "completed"
    },
    "tags": []
   },
   "outputs": [
    {
     "name": "stdout",
     "output_type": "stream",
     "text": [
      "New CATS: ['age2', 'balance2', 'day2', 'duration2', 'campaign2', 'pdays2', 'previous2']\n",
      "Cardinality of all CATS: {'age2': 78, 'balance2': 8590, 'day2': 31, 'duration2': 1824, 'campaign2': 52, 'pdays2': 628, 'previous2': 54, 'job': 12, 'marital': 3, 'education': 4, 'default': 2, 'housing': 2, 'loan': 2, 'contact': 3, 'month': 12, 'poutcome': 4}\n"
     ]
    }
   ],
   "source": [
    "CATS1 = []\n",
    "SIZES = {}\n",
    "for c in NUMS + CATS:\n",
    "    n = c\n",
    "    if c in NUMS: \n",
    "        n = f\"{c}2\"\n",
    "        CATS1.append(n)\n",
    "    combine[n],_ = combine[c].factorize()\n",
    "    SIZES[n] = combine[n].max()+1\n",
    "\n",
    "    combine[c] = combine[c].astype('int32')\n",
    "    combine[n] = combine[n].astype('int32')\n",
    "# numireic but encoding why!!!!!\n",
    "print(\"New CATS:\", CATS1 )\n",
    "print(\"Cardinality of all CATS:\", SIZES )"
   ]
  },
  {
   "cell_type": "code",
   "execution_count": 17,
   "id": "4f88c033",
   "metadata": {
    "execution": {
     "iopub.execute_input": "2025-08-29T19:54:59.585582Z",
     "iopub.status.busy": "2025-08-29T19:54:59.585256Z",
     "iopub.status.idle": "2025-08-29T19:55:02.247035Z",
     "shell.execute_reply": "2025-08-29T19:55:02.245922Z"
    },
    "papermill": {
     "duration": 2.675275,
     "end_time": "2025-08-29T19:55:02.248947",
     "exception": false,
     "start_time": "2025-08-29T19:54:59.573672",
     "status": "completed"
    },
    "tags": []
   },
   "outputs": [
    {
     "name": "stdout",
     "output_type": "stream",
     "text": [
      "Created 120 new CAT columns\n"
     ]
    }
   ],
   "source": [
    "from itertools import combinations\n",
    "\n",
    "pairs = combinations(CATS + CATS1, 2)\n",
    "new_cols = {}\n",
    "CATS2 = []\n",
    "\n",
    "for c1, c2 in pairs:\n",
    "    s = SIZES[c1] * SIZES[c2]\n",
    "    name = \"_\".join(sorted((c1, c2)))\n",
    "    new_cols[name] = combine[c1] * SIZES[c2] + combine[c2]\n",
    "    CATS2.append(name)\n",
    "if new_cols:\n",
    "    new_df = pd.DataFrame(new_cols)         \n",
    "    combine = pd.concat([combine, new_df], axis=1) \n",
    "\n",
    "print(f\"Created {len(CATS2)} new CAT columns\")"
   ]
  },
  {
   "cell_type": "code",
   "execution_count": 18,
   "id": "beb0694c",
   "metadata": {
    "execution": {
     "iopub.execute_input": "2025-08-29T19:55:02.273732Z",
     "iopub.status.busy": "2025-08-29T19:55:02.273347Z",
     "iopub.status.idle": "2025-08-29T19:55:02.285656Z",
     "shell.execute_reply": "2025-08-29T19:55:02.284542Z"
    },
    "papermill": {
     "duration": 0.02699,
     "end_time": "2025-08-29T19:55:02.287769",
     "exception": false,
     "start_time": "2025-08-29T19:55:02.260779",
     "status": "completed"
    },
    "tags": []
   },
   "outputs": [],
   "source": [
    "combine['contact_housing_month']= combine['contact']* SIZES[\"housing\"]+combine['housing']* SIZES[\"month\"]+combine['month']\n",
    " \n",
    "DD=[\n",
    " \n",
    "    \"contact_housing_month\",\n",
    " \n",
    "]"
   ]
  },
  {
   "cell_type": "code",
   "execution_count": 19,
   "id": "4e877ce4",
   "metadata": {
    "execution": {
     "iopub.execute_input": "2025-08-29T19:55:02.309152Z",
     "iopub.status.busy": "2025-08-29T19:55:02.308774Z",
     "iopub.status.idle": "2025-08-29T19:55:02.514239Z",
     "shell.execute_reply": "2025-08-29T19:55:02.513364Z"
    },
    "papermill": {
     "duration": 0.217861,
     "end_time": "2025-08-29T19:55:02.516005",
     "exception": false,
     "start_time": "2025-08-29T19:55:02.298144",
     "status": "completed"
    },
    "tags": []
   },
   "outputs": [],
   "source": [
    "\n",
    "Top_20_Features= ['duration2_poutcome_previous2', \n",
    "                          'contact_duration2_pdays2', \n",
    "                          'duration2_pdays2_poutcome',\n",
    "                          'contact_month_poutcome',\n",
    "                          'contact_duration2_previous2', \n",
    "                          'housing_month_previous2',\n",
    "                          'contact_job_loan',\n",
    "                          'duration2_housing_pdays2',\n",
    "                          'day2_month_poutcome', \n",
    "                          'campaign2_contact_duration2', \n",
    "                          'contact_day2_month', \n",
    "                          'contact_month_previous2',\n",
    "                          'default_housing_loan',\n",
    "                          'contact_housing_loan', \n",
    "                          'balance2_poutcome_previous2',\n",
    "                          'balance2_pdays2_poutcome']\n",
    "for top in Top_20_Features:\n",
    "    t1=top.split(\"_\")[0]\n",
    "    t2=top.split(\"_\")[1]\n",
    "    t3=top.split(\"_\")[2]\n",
    "    combine[top]= combine[t1]** SIZES[t2]+combine[t2]* SIZES[t2]+combine[t3]"
   ]
  },
  {
   "cell_type": "code",
   "execution_count": 20,
   "id": "395f99dd",
   "metadata": {
    "_kg_hide-output": true,
    "execution": {
     "iopub.execute_input": "2025-08-29T19:55:02.538951Z",
     "iopub.status.busy": "2025-08-29T19:55:02.538588Z",
     "iopub.status.idle": "2025-08-29T19:57:33.200662Z",
     "shell.execute_reply": "2025-08-29T19:57:33.199608Z"
    },
    "papermill": {
     "duration": 150.675215,
     "end_time": "2025-08-29T19:57:33.202335",
     "exception": false,
     "start_time": "2025-08-29T19:55:02.527120",
     "status": "completed"
    },
    "tags": []
   },
   "outputs": [
    {
     "name": "stdout",
     "output_type": "stream",
     "text": [
      "Processing 137 columns... 0, 10, 20, 30, 40, 50, 60, 70, 80, 90, 100, 110, 120, 130, \n"
     ]
    }
   ],
   "source": [
    "CE = []\n",
    "CC = CATS+CATS1+CATS2+DD\n",
    "\n",
    "print(f\"Processing {len(CC)} columns... \",end=\"\")\n",
    "for i,c in enumerate(CC):\n",
    "    if i%10==0: print(f\"{i}, \",end=\"\")\n",
    "    tmp = combine.groupby(c).y.count()\n",
    "    tmp = tmp.astype('int32')\n",
    "    tmp.name = f\"CEE_{c}\"\n",
    "    CE.append( f\"CEE_{c}\" )\n",
    "    combine = combine.merge(tmp, on=c, how='left')\n",
    "print()"
   ]
  },
  {
   "cell_type": "code",
   "execution_count": 21,
   "id": "84cbd770",
   "metadata": {
    "execution": {
     "iopub.execute_input": "2025-08-29T19:57:33.224820Z",
     "iopub.status.busy": "2025-08-29T19:57:33.224484Z",
     "iopub.status.idle": "2025-08-29T19:57:33.254293Z",
     "shell.execute_reply": "2025-08-29T19:57:33.253214Z"
    },
    "papermill": {
     "duration": 0.043087,
     "end_time": "2025-08-29T19:57:33.256156",
     "exception": false,
     "start_time": "2025-08-29T19:57:33.213069",
     "status": "completed"
    },
    "tags": []
   },
   "outputs": [
    {
     "name": "stdout",
     "output_type": "stream",
     "text": [
      "Train shape (750000, 298) Test shape (250000, 298) Orig shape (45211, 298)\n"
     ]
    }
   ],
   "source": [
    "train = combine.iloc[:len(train)]\n",
    "test = combine.iloc[len(train): len(train)+len(test)]\n",
    "orig = combine.iloc[-len(orig):]\n",
    "del combine\n",
    "print(\"Train shape\", train.shape,\"Test shape\", test.shape ,\"Orig shape\", orig.shape  )"
   ]
  },
  {
   "cell_type": "code",
   "execution_count": 22,
   "id": "a3b74e0c",
   "metadata": {
    "execution": {
     "iopub.execute_input": "2025-08-29T19:57:33.277787Z",
     "iopub.status.busy": "2025-08-29T19:57:33.277468Z",
     "iopub.status.idle": "2025-08-29T19:57:33.377734Z",
     "shell.execute_reply": "2025-08-29T19:57:33.376536Z"
    },
    "papermill": {
     "duration": 0.113045,
     "end_time": "2025-08-29T19:57:33.379535",
     "exception": false,
     "start_time": "2025-08-29T19:57:33.266490",
     "status": "completed"
    },
    "tags": []
   },
   "outputs": [],
   "source": [
    "test = test.drop('y',axis=1)\n"
   ]
  },
  {
   "cell_type": "code",
   "execution_count": 23,
   "id": "7bde0c36",
   "metadata": {
    "execution": {
     "iopub.execute_input": "2025-08-29T19:57:33.401683Z",
     "iopub.status.busy": "2025-08-29T19:57:33.401277Z",
     "iopub.status.idle": "2025-08-29T19:57:33.406225Z",
     "shell.execute_reply": "2025-08-29T19:57:33.405004Z"
    },
    "papermill": {
     "duration": 0.018301,
     "end_time": "2025-08-29T19:57:33.408063",
     "exception": false,
     "start_time": "2025-08-29T19:57:33.389762",
     "status": "completed"
    },
    "tags": []
   },
   "outputs": [],
   "source": [
    "from sklearn.metrics import roc_auc_score\n",
    "from sklearn.model_selection import StratifiedKFold,KFold\n",
    "import numpy as np\n"
   ]
  },
  {
   "cell_type": "code",
   "execution_count": null,
   "id": "38daf452",
   "metadata": {
    "papermill": {
     "duration": 0.009882,
     "end_time": "2025-08-29T19:57:33.428292",
     "exception": false,
     "start_time": "2025-08-29T19:57:33.418410",
     "status": "completed"
    },
    "tags": []
   },
   "outputs": [],
   "source": []
  },
  {
   "cell_type": "code",
   "execution_count": null,
   "id": "574be9e8",
   "metadata": {
    "papermill": {
     "duration": 0.010687,
     "end_time": "2025-08-29T19:57:33.450769",
     "exception": false,
     "start_time": "2025-08-29T19:57:33.440082",
     "status": "completed"
    },
    "tags": []
   },
   "outputs": [],
   "source": []
  },
  {
   "cell_type": "code",
   "execution_count": 24,
   "id": "c5e1f01a",
   "metadata": {
    "execution": {
     "iopub.execute_input": "2025-08-29T19:57:33.473908Z",
     "iopub.status.busy": "2025-08-29T19:57:33.473574Z",
     "iopub.status.idle": "2025-08-29T19:57:33.477858Z",
     "shell.execute_reply": "2025-08-29T19:57:33.476910Z"
    },
    "papermill": {
     "duration": 0.017633,
     "end_time": "2025-08-29T19:57:33.479547",
     "exception": false,
     "start_time": "2025-08-29T19:57:33.461914",
     "status": "completed"
    },
    "tags": []
   },
   "outputs": [],
   "source": [
    "# FEATURES = CATS+CATS1+CATS2+CE + [\"balance\"]  + Num\n",
    "\n",
    "# print(f\"We now have {len(FEATURES)} columns:\")\n",
    "# unique_list = list(set(FEATURES))\n",
    "# print(len(unique_list))\n",
    "# FEATURES=unique_list"
   ]
  },
  {
   "cell_type": "code",
   "execution_count": 25,
   "id": "73f5c7c4",
   "metadata": {
    "execution": {
     "iopub.execute_input": "2025-08-29T19:57:33.501548Z",
     "iopub.status.busy": "2025-08-29T19:57:33.501169Z",
     "iopub.status.idle": "2025-08-29T19:59:25.064105Z",
     "shell.execute_reply": "2025-08-29T19:59:25.062767Z"
    },
    "papermill": {
     "duration": 111.576181,
     "end_time": "2025-08-29T19:59:25.065918",
     "exception": false,
     "start_time": "2025-08-29T19:57:33.489737",
     "status": "completed"
    },
    "tags": []
   },
   "outputs": [
    {
     "name": "stdout",
     "output_type": "stream",
     "text": [
      "Processing 136 columns... 0, 10, 20, 30, 40, 50, 60, 70, 80, 90, 100, 110, 120, 130, \n"
     ]
    }
   ],
   "source": [
    "TE_ORIG = []\n",
    "CC = CATS+CATS1+CATS2 \n",
    "\n",
    "print(f\"Processing {len(CC)} columns... \",end=\"\")\n",
    "for i,c in enumerate(CC):\n",
    "    if i%10==0: print(f\"{i}, \",end=\"\")\n",
    "    tmp = orig.groupby(c).y.mean()\n",
    "    tmp = tmp.astype('float32')\n",
    "    tmp.name = f\"TE_ORIG_{c}\"\n",
    "    TE_ORIG.append( f\"TE_ORIG_{c}\" )\n",
    "    train = train.merge(tmp, on=c, how='left')\n",
    "    test = test.merge(tmp, on=c, how='left')\n",
    "    orig = orig.merge(tmp, on=c, how='left')\n",
    "print()"
   ]
  },
  {
   "cell_type": "code",
   "execution_count": null,
   "id": "306ffb4c",
   "metadata": {
    "papermill": {
     "duration": 0.010611,
     "end_time": "2025-08-29T19:59:25.087374",
     "exception": false,
     "start_time": "2025-08-29T19:59:25.076763",
     "status": "completed"
    },
    "tags": []
   },
   "outputs": [],
   "source": []
  },
  {
   "cell_type": "code",
   "execution_count": 26,
   "id": "ddb41380",
   "metadata": {
    "execution": {
     "iopub.execute_input": "2025-08-29T19:59:25.112447Z",
     "iopub.status.busy": "2025-08-29T19:59:25.112022Z",
     "iopub.status.idle": "2025-08-29T19:59:30.134776Z",
     "shell.execute_reply": "2025-08-29T19:59:30.133677Z"
    },
    "papermill": {
     "duration": 5.037212,
     "end_time": "2025-08-29T19:59:30.136954",
     "exception": false,
     "start_time": "2025-08-29T19:59:25.099742",
     "status": "completed"
    },
    "tags": []
   },
   "outputs": [],
   "source": [
    "import torch\n",
    "\n",
    "# Clear cache\n",
    "torch.cuda.empty_cache()\n",
    "\n",
    "# Optionally free all tensors not referenced anymore\n",
    "import gc\n",
    "gc.collect()\n",
    "torch.cuda.empty_cache()\n"
   ]
  },
  {
   "cell_type": "code",
   "execution_count": 27,
   "id": "0992c932",
   "metadata": {
    "execution": {
     "iopub.execute_input": "2025-08-29T19:59:30.161735Z",
     "iopub.status.busy": "2025-08-29T19:59:30.161090Z",
     "iopub.status.idle": "2025-08-29T19:59:30.166580Z",
     "shell.execute_reply": "2025-08-29T19:59:30.165538Z"
    },
    "papermill": {
     "duration": 0.019137,
     "end_time": "2025-08-29T19:59:30.168170",
     "exception": false,
     "start_time": "2025-08-29T19:59:30.149033",
     "status": "completed"
    },
    "tags": []
   },
   "outputs": [],
   "source": [
    "# STATISTICS TO AGGEGATE FOR OUR FEATURE GROUPS\n",
    "STATS = [\"mean\",\"std\",\"count\",\"nunique\",\"median\",\"min\",\"max\",\"skew\", \"prod\"]\n",
    "STATS2 = [\"mean\",\"std\"]"
   ]
  },
  {
   "cell_type": "code",
   "execution_count": 28,
   "id": "4234643a",
   "metadata": {
    "execution": {
     "iopub.execute_input": "2025-08-29T19:59:30.191327Z",
     "iopub.status.busy": "2025-08-29T19:59:30.190999Z",
     "iopub.status.idle": "2025-08-29T19:59:30.195789Z",
     "shell.execute_reply": "2025-08-29T19:59:30.194772Z"
    },
    "papermill": {
     "duration": 0.018357,
     "end_time": "2025-08-29T19:59:30.197567",
     "exception": false,
     "start_time": "2025-08-29T19:59:30.179210",
     "status": "completed"
    },
    "tags": []
   },
   "outputs": [],
   "source": [
    "scores = {}\n",
    "oof_pred_probs = {}\n",
    "test_pred_probs = {}"
   ]
  },
  {
   "cell_type": "code",
   "execution_count": 29,
   "id": "18dcbeda",
   "metadata": {
    "execution": {
     "iopub.execute_input": "2025-08-29T19:59:30.221010Z",
     "iopub.status.busy": "2025-08-29T19:59:30.220652Z",
     "iopub.status.idle": "2025-08-29T19:59:30.263646Z",
     "shell.execute_reply": "2025-08-29T19:59:30.262366Z"
    },
    "papermill": {
     "duration": 0.0572,
     "end_time": "2025-08-29T19:59:30.265596",
     "exception": false,
     "start_time": "2025-08-29T19:59:30.208396",
     "status": "completed"
    },
    "tags": []
   },
   "outputs": [],
   "source": [
    "cat_features_card = []\n",
    "for f in CATS:\n",
    "        cat_features_card.append(train[f].nunique())"
   ]
  },
  {
   "cell_type": "code",
   "execution_count": 30,
   "id": "77f79136",
   "metadata": {
    "execution": {
     "iopub.execute_input": "2025-08-29T19:59:30.289023Z",
     "iopub.status.busy": "2025-08-29T19:59:30.288663Z",
     "iopub.status.idle": "2025-08-29T20:01:27.059481Z",
     "shell.execute_reply": "2025-08-29T20:01:27.058551Z"
    },
    "papermill": {
     "duration": 116.784602,
     "end_time": "2025-08-29T20:01:27.061526",
     "exception": false,
     "start_time": "2025-08-29T19:59:30.276924",
     "status": "completed"
    },
    "tags": []
   },
   "outputs": [],
   "source": [
    "AUGM=[\n",
    "   'many_no',\n",
    "    \"credit\",\n",
    "    \"risk\",\n",
    "    \"balance_log_i\",\n",
    "    \"duration_log_i\",\n",
    "    \"balance_log\",\n",
    "    \"duration_log\",\n",
    "    \"job_edu\",\n",
    "    \"contacted_before\",\n",
    "    \"age_squared\",\n",
    "    \"duration_sin\",\n",
    "    \"duration_cos\",\n",
    "     \"group_age\",\n",
    "    \"group_balance\"\n",
    "   ]\n",
    "\n",
    "\n",
    "train = data_process(train)\n",
    "train[\"group_age\"] = train['age'].apply(assign_group)\n",
    "train[\"group_balance\"] = train['balance'].apply(assign_group2)\n",
    "train = data_process2(train) \n",
    "train =NEW_FE(train)\n",
    "\n",
    "test = data_process(test)\n",
    "test[\"group_age\"] = test['age'].apply(assign_group)\n",
    "test[\"group_balance\"] = test['balance'].apply(assign_group2)\n",
    "test = data_process2(test) \n",
    "test =NEW_FE(test)\n",
    "\n",
    "orig = data_process(orig)\n",
    "orig[\"group_age\"] = orig['age'].apply(assign_group)\n",
    "orig[\"group_balance\"] = orig['balance'].apply(assign_group2)\n",
    "orig = data_process2(orig) \n",
    "orig =NEW_FE(orig)\n",
    "\n",
    "from sklearn.preprocessing import LabelEncoder\n",
    "\n",
    "for col in [\"many_no\", \"job_edu\"]:\n",
    "    le = LabelEncoder()\n",
    "    train[col] = le.fit_transform(train[col].astype(str))\n",
    "    test[col] = le.transform(test[col].astype(str))\n",
    "\n",
    " \n",
    "\n",
    "\n",
    "\n",
    "\n",
    "\n",
    "train['group_balance']=train['group_balance'].fillna(train['group_balance'].median())       \n",
    "test['group_balance']=test['group_balance'].fillna(test['group_balance'].median())       \n",
    "orig['group_balance']=orig['group_balance'].fillna(orig['group_balance'].median())\n",
    "\n",
    "      "
   ]
  },
  {
   "cell_type": "code",
   "execution_count": 31,
   "id": "f30719b3",
   "metadata": {
    "_kg_hide-output": false,
    "execution": {
     "iopub.execute_input": "2025-08-29T20:01:27.085778Z",
     "iopub.status.busy": "2025-08-29T20:01:27.085439Z",
     "iopub.status.idle": "2025-08-29T20:01:27.091059Z",
     "shell.execute_reply": "2025-08-29T20:01:27.090038Z"
    },
    "papermill": {
     "duration": 0.018936,
     "end_time": "2025-08-29T20:01:27.092527",
     "exception": false,
     "start_time": "2025-08-29T20:01:27.073591",
     "status": "completed"
    },
    "tags": []
   },
   "outputs": [
    {
     "name": "stdout",
     "output_type": "stream",
     "text": [
      "We have 447 features.\n"
     ]
    }
   ],
   "source": [
    "FEATURES = NUMS+CATS+CATS1+CATS2+CE+TE_ORIG+Top_20_Features+DD+AUGM\n",
    "print(f\"We have {len(FEATURES)} features.\")\n"
   ]
  },
  {
   "cell_type": "code",
   "execution_count": 32,
   "id": "748ae8f3",
   "metadata": {
    "execution": {
     "iopub.execute_input": "2025-08-29T20:01:27.117070Z",
     "iopub.status.busy": "2025-08-29T20:01:27.116703Z",
     "iopub.status.idle": "2025-08-29T20:06:33.637816Z",
     "shell.execute_reply": "2025-08-29T20:06:33.636394Z"
    },
    "papermill": {
     "duration": 306.535476,
     "end_time": "2025-08-29T20:06:33.640348",
     "exception": false,
     "start_time": "2025-08-29T20:01:27.104872",
     "status": "completed"
    },
    "tags": []
   },
   "outputs": [],
   "source": [
    "train.to_csv('train_xglm.csv',index=False)\n",
    "test.to_csv('test_xglm.csv',index=False)\n",
    "orig.to_csv('orig_xglm.csv',index=False)"
   ]
  },
  {
   "cell_type": "code",
   "execution_count": 33,
   "id": "9f6600e8",
   "metadata": {
    "execution": {
     "iopub.execute_input": "2025-08-29T20:06:33.666286Z",
     "iopub.status.busy": "2025-08-29T20:06:33.665925Z",
     "iopub.status.idle": "2025-08-29T20:06:33.671279Z",
     "shell.execute_reply": "2025-08-29T20:06:33.670279Z"
    },
    "papermill": {
     "duration": 0.019422,
     "end_time": "2025-08-29T20:06:33.673075",
     "exception": false,
     "start_time": "2025-08-29T20:06:33.653653",
     "status": "completed"
    },
    "tags": []
   },
   "outputs": [],
   "source": [
    "# train = pd.concat([train],axis=0).reset_index(drop=True)\n",
    " "
   ]
  },
  {
   "cell_type": "code",
   "execution_count": 34,
   "id": "ab95ed64",
   "metadata": {
    "execution": {
     "iopub.execute_input": "2025-08-29T20:06:33.696294Z",
     "iopub.status.busy": "2025-08-29T20:06:33.695956Z",
     "iopub.status.idle": "2025-08-29T20:06:33.707056Z",
     "shell.execute_reply": "2025-08-29T20:06:33.705989Z"
    },
    "papermill": {
     "duration": 0.024784,
     "end_time": "2025-08-29T20:06:33.708953",
     "exception": false,
     "start_time": "2025-08-29T20:06:33.684169",
     "status": "completed"
    },
    "tags": []
   },
   "outputs": [],
   "source": [
    "train.y=train.y.astype(int)\n",
    "# from cuml.preprocessing import TargetEncoder\n",
    "# del orig"
   ]
  },
  {
   "cell_type": "code",
   "execution_count": 35,
   "id": "eafb7c1c",
   "metadata": {
    "execution": {
     "iopub.execute_input": "2025-08-29T20:06:33.734476Z",
     "iopub.status.busy": "2025-08-29T20:06:33.733787Z",
     "iopub.status.idle": "2025-08-29T20:06:33.739993Z",
     "shell.execute_reply": "2025-08-29T20:06:33.739035Z"
    },
    "papermill": {
     "duration": 0.020372,
     "end_time": "2025-08-29T20:06:33.741659",
     "exception": false,
     "start_time": "2025-08-29T20:06:33.721287",
     "status": "completed"
    },
    "tags": []
   },
   "outputs": [],
   "source": [
    "FOLDS =11\n",
    "SEED = 42\n",
    "\n",
    "params = {\n",
    "    \"objective\": \"binary:logistic\",  \n",
    "    \"eval_metric\": \"auc\",           \n",
    "    \"learning_rate\": 0.1,\n",
    "    \"max_depth\": 0,\n",
    "    \"subsample\": 0.8,\n",
    "    \"colsample_bytree\": 0.7,\n",
    "    \"seed\": SEED,\n",
    "    \"device\": \"cuda\",\n",
    "    \"grow_policy\": \"lossguide\", \n",
    "    \"max_leaves\": 32,          \n",
    "    \"alpha\": 2.0,\n",
    "}"
   ]
  },
  {
   "cell_type": "code",
   "execution_count": 36,
   "id": "211fe928",
   "metadata": {
    "execution": {
     "iopub.execute_input": "2025-08-29T20:06:33.765582Z",
     "iopub.status.busy": "2025-08-29T20:06:33.765167Z",
     "iopub.status.idle": "2025-08-29T20:06:33.772977Z",
     "shell.execute_reply": "2025-08-29T20:06:33.772017Z"
    },
    "papermill": {
     "duration": 0.021924,
     "end_time": "2025-08-29T20:06:33.774744",
     "exception": false,
     "start_time": "2025-08-29T20:06:33.752820",
     "status": "completed"
    },
    "tags": []
   },
   "outputs": [],
   "source": [
    "class IterLoadForDMatrix(xgb.core.DataIter):\n",
    "    def __init__(self, df=None, features=None, target=None, batch_size=256*1024):\n",
    "        self.features = features\n",
    "        self.target = target\n",
    "        self.df = df\n",
    "        self.it = 0 \n",
    "        self.batch_size = batch_size\n",
    "        self.batches = int( np.ceil( len(df) / self.batch_size ) )\n",
    "        super().__init__()\n",
    "\n",
    "    def reset(self):\n",
    "        '''Reset the iterator'''\n",
    "        self.it = 0\n",
    "\n",
    "    def next(self, input_data):\n",
    "        '''Yield next batch of data.'''\n",
    "        if self.it == self.batches:\n",
    "            return 0 # Return 0 when there's no more batch.\n",
    "        \n",
    "        a = self.it * self.batch_size\n",
    "        b = min( (self.it + 1) * self.batch_size, len(self.df) )\n",
    "        #dt = cudf.DataFrame(self.df.iloc[a:b])\n",
    "        dt = self.df.iloc[a:b]\n",
    "        input_data(data=dt[self.features], label=dt[self.target]) \n",
    "        self.it += 1\n",
    "        return 1"
   ]
  },
  {
   "cell_type": "code",
   "execution_count": 37,
   "id": "dac7c1f9",
   "metadata": {
    "execution": {
     "iopub.execute_input": "2025-08-29T20:06:33.800599Z",
     "iopub.status.busy": "2025-08-29T20:06:33.800237Z",
     "iopub.status.idle": "2025-08-29T20:06:33.805780Z",
     "shell.execute_reply": "2025-08-29T20:06:33.804799Z"
    },
    "papermill": {
     "duration": 0.020659,
     "end_time": "2025-08-29T20:06:33.807973",
     "exception": false,
     "start_time": "2025-08-29T20:06:33.787314",
     "status": "completed"
    },
    "tags": []
   },
   "outputs": [],
   "source": [
    "# oof_preds = np.zeros(len(train))\n",
    "# test_preds = np.zeros(len(test))\n",
    "\n",
    "\n",
    "# kf = KFold(n_splits=FOLDS, shuffle=True, random_state=SEED)\n",
    "# for fold, (train_idx, val_idx) in enumerate(kf.split(train)):\n",
    "#     print(\"#\"*25)\n",
    "#     print(f\"### Fold {fold+1} ###\")\n",
    "#     print(\"#\"*25)\n",
    "\n",
    "#     Xy_train = train.iloc[train_idx][ FEATURES+['y'] ].copy()\n",
    "#     Xy_more = orig[ FEATURES+['y'] ]\n",
    "#     for k in range(1):\n",
    "#         Xy_train = pd.concat([Xy_train,Xy_more],axis=0,ignore_index=True)\n",
    "    \n",
    "#     X_valid = train.iloc[val_idx][FEATURES].copy()\n",
    "#     y_valid = train.iloc[val_idx]['y']\n",
    "#     X_test = test[FEATURES].copy()\n",
    "\n",
    "#     CC = CATS1+CATS2+DD\n",
    "#     print(f\"Target encoding {len(CC)} features... \",end=\"\")\n",
    "#     for i,c in enumerate(CC):\n",
    "#         if i%10==0: print(f\"{i}, \",end=\"\")\n",
    "#         TE0 = TargetEncoder(n_folds=10, smooth=0, split_method='random', stat='mean')\n",
    "#         Xy_train[c] = TE0.fit_transform(Xy_train[c],Xy_train['y']).astype('float32')\n",
    "#         X_valid[c] = TE0.transform(X_valid[c]).astype('float32')\n",
    "#         X_test[c] = TE0.transform(X_test[c]).astype('float32')\n",
    "        \n",
    "#         torch.cuda.empty_cache()\n",
    "\n",
    "#         # Optionally free all tensors not referenced anymore\n",
    "#         gc.collect()\n",
    "#         torch.cuda.empty_cache()\n",
    "#     print()\n",
    "\n",
    "#     Xy_train[CATS] = Xy_train[CATS].astype('category')\n",
    "#     X_valid[CATS] = X_valid[CATS].astype('category')\n",
    "#     X_test[CATS] = X_test[CATS].astype('category')\n",
    "\n",
    "#     Xy_train = IterLoadForDMatrix(Xy_train, FEATURES, 'y')\n",
    "#     dtrain = xgb.QuantileDMatrix(Xy_train, enable_categorical=True, max_bin=256)\n",
    "#     dval   = xgb.DMatrix(X_valid, label=y_valid, enable_categorical=True)\n",
    "#     dtest  = xgb.DMatrix(X_test, enable_categorical=True)\n",
    "\n",
    "#     model = xgb.train(\n",
    "#         params=params,\n",
    "#         dtrain=dtrain,\n",
    "#         num_boost_round=10_000,\n",
    "#         evals=[(dtrain, \"train\"), (dval, \"valid\")],\n",
    "#         early_stopping_rounds=200,\n",
    "#         verbose_eval=200\n",
    "#     )\n",
    "\n",
    "#     oof_preds[val_idx] = model.predict(dval, iteration_range=(0, model.best_iteration + 1))\n",
    "#     test_preds += model.predict(dtest, iteration_range=(0, model.best_iteration + 1)) / FOLDS"
   ]
  },
  {
   "cell_type": "code",
   "execution_count": 38,
   "id": "0d5eb9fd",
   "metadata": {
    "execution": {
     "iopub.execute_input": "2025-08-29T20:06:33.833233Z",
     "iopub.status.busy": "2025-08-29T20:06:33.832857Z",
     "iopub.status.idle": "2025-08-29T20:06:33.838057Z",
     "shell.execute_reply": "2025-08-29T20:06:33.836527Z"
    },
    "papermill": {
     "duration": 0.020435,
     "end_time": "2025-08-29T20:06:33.840156",
     "exception": false,
     "start_time": "2025-08-29T20:06:33.819721",
     "status": "completed"
    },
    "tags": []
   },
   "outputs": [],
   "source": [
    "# from sklearn.metrics import roc_auc_score\n",
    "\n",
    "# m = roc_auc_score(train.y, oof_preds)\n",
    "# print(f\"XGB with Original Data as rows CV = {m}\")\n",
    "#  # XGB with Original Data as rows CV = 0.969810900952446\n"
   ]
  },
  {
   "cell_type": "code",
   "execution_count": 39,
   "id": "af20398a",
   "metadata": {
    "execution": {
     "iopub.execute_input": "2025-08-29T20:06:33.864925Z",
     "iopub.status.busy": "2025-08-29T20:06:33.864530Z",
     "iopub.status.idle": "2025-08-29T20:06:33.884737Z",
     "shell.execute_reply": "2025-08-29T20:06:33.883503Z"
    },
    "papermill": {
     "duration": 0.035006,
     "end_time": "2025-08-29T20:06:33.886496",
     "exception": false,
     "start_time": "2025-08-29T20:06:33.851490",
     "status": "completed"
    },
    "tags": []
   },
   "outputs": [
    {
     "name": "stdout",
     "output_type": "stream",
     "text": [
      "CPU times: user 36 µs, sys: 11 µs, total: 47 µs\n",
      "Wall time: 52.5 µs\n"
     ]
    }
   ],
   "source": [
    "%%time\n",
    "kf = KFold(n_splits=FOLDS, shuffle=True, random_state=42)\n",
    "def train_model ( mode='xgb'):\n",
    "    oof = np.zeros((len(train)))\n",
    "    pred = np.zeros((len(test)))\n",
    "    save_data=dict()\n",
    "   \n",
    "        \n",
    "    # OUTER K FOLD\n",
    "    for i, (train_index, test_index) in enumerate(kf.split(train)):\n",
    "        print(f\"### OUTER Fold {i+1} ###\")\n",
    "      \n",
    "        \n",
    "        \n",
    "        X_train = train.loc[train_index,FEATURES+['y']].reset_index(drop=True).copy()\n",
    "        y_train = train.loc[train_index,'y']\n",
    "        \n",
    "        \n",
    "        X_valid = train.loc[test_index,FEATURES].reset_index(drop=True).copy()\n",
    "        y_valid = train.loc[test_index,'y']\n",
    "    \n",
    "        X_test = test[FEATURES].reset_index(drop=True).copy()\n",
    "        # encoder----------------------------------\n",
    "        \n",
    "            # INNER K FOLD (TO PREVENT LEAKAGE WHEN USING PRICE)\n",
    "        kf2 = KFold(n_splits=FOLDS, shuffle=True, random_state=42)   \n",
    "        for j, (train_index2, test_index2) in enumerate(kf2.split(X_train)):\n",
    "            print(f\" ## INNER Fold {j+1} (outer fold {i+1}) ##\")\n",
    "    \n",
    "            X_train2 = X_train.loc[train_index2,FEATURES+['y']].copy()\n",
    "            X_valid2 = X_train.loc[test_index2,FEATURES].copy()\n",
    "    \n",
    "            ### FEATURE SET 1 (uses price) ###\n",
    "            col = \"balance\"\n",
    "            tmp = X_train2.groupby(col).y.agg(STATS)\n",
    "            tmp.columns = [f\"TE1_wc_{s}\" for s in STATS]\n",
    "            X_valid2 = X_valid2.merge(tmp, on=col, how=\"left\")\n",
    "            for c in tmp.columns:\n",
    "                X_train.loc[test_index2,c] = X_valid2[c].values\n",
    "    \n",
    "        ### FEATURE SET 1 (uses price) ###\n",
    "        col = \"balance\"\n",
    "        tmp = X_train.groupby(col).y.agg(STATS)\n",
    "        tmp.columns = [f\"TE1_wc_{s}\" for s in STATS]\n",
    "        X_valid = X_valid.merge(tmp, on=col, how=\"left\")\n",
    "        X_test = X_test.merge(tmp, on=col, how=\"left\")\n",
    "    \n",
    "        ### FEATURE SET 3 (does not use price) ###\n",
    "        for col in CATS:\n",
    "            col2 = \"balance\"\n",
    "            tmp = X_train.groupby(col)[col2].agg(STATS2)\n",
    "            tmp.columns = [f\"FE3_{col}_wc_{s}\" for s in STATS2]\n",
    "            X_train = X_train.merge(tmp, on=col, how=\"left\")\n",
    "            X_valid = X_valid.merge(tmp, on=col, how=\"left\")\n",
    "            X_test = X_test.merge(tmp, on=col, how=\"left\")\n",
    "        # CC = CATS1+CATS2\n",
    "        # print(f\"Target encoding {len(CC)} features... \",end=\"\")\n",
    "        # for f,c in enumerate(CC):\n",
    "        #     if f%10==0: print(f\"{f}, \",end=\"\")\n",
    "        #     # TE0 = TargetEncoder(n_folds=10, smooth=0, split_method='random', stat='mean')\n",
    "        #     TE0 = ce.TargetEncoder(cols=[c])\n",
    "        #     X_train[f'{c}_TEE'] = TE0.fit_transform(X_train[c],X_train['y']).astype('float32')\n",
    "        #     X_valid[f'{c}_TEE'] = TE0.transform(X_valid[c]).astype('float32')\n",
    "        #     X_test[f'{c}_TEE'] = TE0.transform(X_test[c]).astype('float32')\n",
    "        # CONVERT TO CATS SO XGBOOST RECOGNIZES THEM\n",
    "        if mode =='NN':\n",
    "            for col in X_train.drop('y',axis=1).columns.tolist():\n",
    "                X_train[col]=X_train[col].fillna(X_train[col].mean())\n",
    "                X_valid[col]=X_valid[col].fillna(X_valid[col].mean())\n",
    "                X_test[col]=X_test[col].fillna(X_test[col].mean())\n",
    "        else:\n",
    "            X_train[CATS] = X_train[CATS].astype(\"category\")\n",
    "            X_valid[CATS] = X_valid[CATS].astype(\"category\")\n",
    "            X_test[CATS] = X_test[CATS].astype(\"category\") \n",
    "        # DROP PRICE THAT WAS USED FOR TARGET ENCODING\n",
    "        X_train = X_train.drop(['y'],axis=1)\n",
    "       \n",
    "        # Build model\n",
    "        if mode ==  'xgb': \n",
    "            X_train[CATS] = X_train[CATS].astype(\"category\")\n",
    "            X_valid[CATS] = X_valid[CATS].astype(\"category\")\n",
    "            X_test[CATS] = X_test[CATS].astype(\"category\")\n",
    "\n",
    "            for c in X_train.columns.tolist():\n",
    "                if c in X_train.select_dtypes(exclude=np.number).columns.tolist():\n",
    "                    X_train[c]=X_train[c].fillna(X_train[c].mode()[0])\n",
    "                    X_valid[c]=X_valid[c].fillna(X_valid[c].mode()[0])\n",
    "                    X_test[c]=X_test[c].fillna(X_test[c].mode()[0])\n",
    "                else : \n",
    "                    X_train[c]=X_train[c].fillna(X_train[c].mean())\n",
    "                    X_valid[c]=X_valid[c].fillna(X_valid[c].mean())\n",
    "                X_test[c]=X_test[c].fillna(X_test[c].mean())\n",
    "            xgb_params = {\n",
    "                            'objective': 'binary:logistic',\n",
    "                            'eval_metric': 'auc',\n",
    "                            'booster': 'gbtree',\n",
    "                            'max_depth': 6,\n",
    "                            'learning_rate': 0.05,\n",
    "                            'subsample': 0.8,\n",
    "                            'colsample_bytree': 0.8,\n",
    "                            'min_child_weight': 1,\n",
    "                            'reg_alpha': 0.1,\n",
    "                            'reg_lambda': 1,\n",
    "                            'random_state': 42,\n",
    "                            \"enable_categorical\":True,\n",
    "                            'n_estimators': 10000,\n",
    "                            'early_stopping_rounds': 100,\n",
    "                            'verbosity': 1\n",
    "                        }\n",
    "            model = XGBClassifier(**xgb_params)\n",
    "        elif mode ==  'cat':\n",
    "            model = CatBoostClassifier(\n",
    "                                allow_writing_files=False,\n",
    "                                verbose=False,\n",
    "                                task_type='CPU',\n",
    "                                loss_function='CrossEntropy',\n",
    "                                use_best_model=True,\n",
    "                                cat_features=X_train.columns.to_list(),\n",
    "                                n_estimators=10000,\n",
    "                                learning_rate=0.1,\n",
    "                            )\n",
    "\n",
    "        elif mode ==  'lgbm':\n",
    "            model = lgb.LGBMClassifier(\n",
    "                    objective=\"binary\",\n",
    "                    metric=\"auc\",\n",
    "                    n_estimators=20000,\n",
    "                    learning_rate=0.04967814507666819,\n",
    "                    num_leaves=120,\n",
    "                    max_depth=14,\n",
    "                    min_child_samples=8,\n",
    "                    subsample=0.9293841645632404,\n",
    "                    colsample_bytree=0.3000470250632234,\n",
    "                    reg_alpha=1.2372125517096761,\n",
    "                    reg_lambda=1.2809008975813085,\n",
    "                    max_bin=4500,\n",
    "                    random_state=42,\n",
    "                    verbosity=-1\n",
    "                )\n",
    "        elif mode ==  'rfc':\n",
    "            model = HistGradientBoostingClassifier(\n",
    "                learning_rate=0.02,\n",
    "                max_iter=10_000,\n",
    "                max_depth=6,\n",
    "                max_leaf_nodes=31,\n",
    "                min_samples_leaf=10,\n",
    "                l2_regularization=1.0,\n",
    "                early_stopping=True,\n",
    "                scoring='roc_auc',  # used only when early_stopping=True\n",
    "                validation_fraction=0.1,\n",
    "                n_iter_no_change=100,\n",
    "                categorical_features=CATS,  # only needed if data is NumPy array\n",
    "                random_state=42,\n",
    "                verbose=0\n",
    "            )      \n",
    "        # TRAIN MODEL\n",
    "        COLS = X_train.columns\n",
    "        if mode =='lgbm':\n",
    "            model.fit(\n",
    "                     X_train[COLS], y_train,\n",
    "                    eval_set=[(X_valid[COLS], y_valid)],\n",
    "                    eval_metric='auc',\n",
    "                    callbacks=[\n",
    "                        lgb.early_stopping(500),\n",
    "                        lgb.log_evaluation(period=500)\n",
    "                    ]\n",
    "                )\n",
    "        elif mode =='rfc':\n",
    " \n",
    "       \n",
    "            model.fit(\n",
    "                X_train[COLS], y_train,\n",
    "            )\n",
    "      \n",
    "        elif mode==\"cat\":\n",
    "            X_train =X_train.astype('str').fillna(X_train.mode().iloc[0])\n",
    "            X_valid =X_valid.astype('str').fillna(X_train.mode().iloc[0])\n",
    "            X_train[COLS]=X_train[COLS]\n",
    "            model.fit( X_train[COLS], y_train, eval_set=[(X_valid[COLS], y_valid)], early_stopping_rounds=200)\n",
    "        else:\n",
    "            model.fit(\n",
    "                X_train[COLS], y_train,\n",
    "                eval_set=[(X_valid[COLS], y_valid)],  \n",
    "                verbose=300,\n",
    "            )\n",
    "        \n",
    "        oof[test_index] = model.predict_proba(X_valid[COLS])[:,1]\n",
    "        pred += model.predict_proba(X_test[COLS])[:,1]\n",
    "        \n",
    "    pred /= FOLDS\n",
    "    oof_pred_probs[mode]=oof\n",
    "    test_pred_probs[mode]=pred\n",
    "\n",
    "\n",
    "    lgb_importances = pd.DataFrame({\n",
    "    'Feature': X_train.columns.tolist(),\n",
    "    'Importance': model.feature_importances_\n",
    "    }).sort_values(by='Importance', ascending=False)\n",
    "    \n",
    "    # Set the number of features to display\n",
    "    n_top_features = 49\n",
    "    \n",
    "    plt.figure(figsize=(18, 8))\n",
    "    sns.set_theme(style=\"whitegrid\")\n",
    "    \n",
    "    sns.barplot(\n",
    "        data=lgb_importances.head(50),\n",
    "        x='Importance', \n",
    "        y='Feature', \n",
    "        palette=\"autumn\"\n",
    "    )\n",
    "    \n",
    "    plt.title('LightGBM Top Feature Importances')\n",
    "    plt.tight_layout()\n",
    "    plt.show()\n",
    "\n",
    "\n",
    "\n",
    "    return oof_pred_probs ,test_pred_probs ,lgb_importances"
   ]
  },
  {
   "cell_type": "code",
   "execution_count": 40,
   "id": "543ae76f",
   "metadata": {
    "execution": {
     "iopub.execute_input": "2025-08-29T20:06:33.911548Z",
     "iopub.status.busy": "2025-08-29T20:06:33.911200Z",
     "iopub.status.idle": "2025-08-29T20:06:33.915818Z",
     "shell.execute_reply": "2025-08-29T20:06:33.914757Z"
    },
    "papermill": {
     "duration": 0.01926,
     "end_time": "2025-08-29T20:06:33.917734",
     "exception": false,
     "start_time": "2025-08-29T20:06:33.898474",
     "status": "completed"
    },
    "tags": []
   },
   "outputs": [],
   "source": [
    "# COMPUTE OVERALL CV SCORE\n",
    "# true = train.y.values\n",
    "# for m in [ \"lgbm\" ]:\n",
    "    \n",
    "#     oof_pred_probs ,test_pred_probs ,lgb_importances=train_model(mode=m)\n",
    "#     print(f\"{m} , done\")\n",
    "#     s=roc_auc_score(true,oof_pred_probs[m])\n",
    "#     print(f\"=> {m} Overall CV Score = {s}\")\n",
    " "
   ]
  },
  {
   "cell_type": "code",
   "execution_count": 41,
   "id": "66209f5b",
   "metadata": {
    "execution": {
     "iopub.execute_input": "2025-08-29T20:06:33.942441Z",
     "iopub.status.busy": "2025-08-29T20:06:33.942110Z",
     "iopub.status.idle": "2025-08-29T20:06:33.947046Z",
     "shell.execute_reply": "2025-08-29T20:06:33.946045Z"
    },
    "papermill": {
     "duration": 0.019726,
     "end_time": "2025-08-29T20:06:33.948926",
     "exception": false,
     "start_time": "2025-08-29T20:06:33.929200",
     "status": "completed"
    },
    "tags": []
   },
   "outputs": [],
   "source": [
    "# def train_meta_learner(X_meta_train):\n",
    "#     X_meta_train['mean_pred'] = X_meta_train.mean(axis=1).astype(np.float64)\n",
    "#     X_meta_train['std_pred'] = X_meta_train.std(axis=1).astype(np.float64)\n",
    "#     X_meta_train['max_pred'] = X_meta_train.max(axis=1).astype(np.float64)\n",
    "#     X_meta_train['min_pred'] = X_meta_train.min(axis=1).astype(np.float64)\n",
    "#     X_meta_train['count_pred'] = X_meta_train.count(axis=1).astype(np.float64)\n",
    "#     X_meta_train['median_pred'] = X_meta_train.median(axis=1).astype(np.float64)\n",
    "#     X_meta_train['skew_pred'] = X_meta_train.skew(axis=1).astype(np.float64)\n",
    "#     X_meta_train['prod_pred'] = X_meta_train.prod(axis=1).astype(np.float64)\n",
    "    \n",
    "#     return X_meta_train\n",
    " "
   ]
  },
  {
   "cell_type": "code",
   "execution_count": 42,
   "id": "53a40a9f",
   "metadata": {
    "execution": {
     "iopub.execute_input": "2025-08-29T20:06:33.975025Z",
     "iopub.status.busy": "2025-08-29T20:06:33.974649Z",
     "iopub.status.idle": "2025-08-29T20:06:33.978948Z",
     "shell.execute_reply": "2025-08-29T20:06:33.977928Z"
    },
    "papermill": {
     "duration": 0.018559,
     "end_time": "2025-08-29T20:06:33.980516",
     "exception": false,
     "start_time": "2025-08-29T20:06:33.961957",
     "status": "completed"
    },
    "tags": []
   },
   "outputs": [],
   "source": [
    "# oof_pred_probs['xgb']=oof_preds\n",
    "# test_pred_probs['xgb']=test_preds\n",
    "# oof_pred_probs=pd.DataFrame(oof_pred_probs)\n",
    "# test_pred_probs=pd.DataFrame(test_pred_probs)"
   ]
  },
  {
   "cell_type": "code",
   "execution_count": 43,
   "id": "ccf9854e",
   "metadata": {
    "execution": {
     "iopub.execute_input": "2025-08-29T20:06:34.004887Z",
     "iopub.status.busy": "2025-08-29T20:06:34.004494Z",
     "iopub.status.idle": "2025-08-29T20:06:34.008855Z",
     "shell.execute_reply": "2025-08-29T20:06:34.007927Z"
    },
    "papermill": {
     "duration": 0.018512,
     "end_time": "2025-08-29T20:06:34.010395",
     "exception": false,
     "start_time": "2025-08-29T20:06:33.991883",
     "status": "completed"
    },
    "tags": []
   },
   "outputs": [],
   "source": [
    "# oof_pred_probs=train_meta_learner(oof_pred_probs)\n",
    "# test_pred_probs=train_meta_learner(test_pred_probs)"
   ]
  },
  {
   "cell_type": "code",
   "execution_count": 44,
   "id": "6573c15d",
   "metadata": {
    "execution": {
     "iopub.execute_input": "2025-08-29T20:06:34.033648Z",
     "iopub.status.busy": "2025-08-29T20:06:34.033297Z",
     "iopub.status.idle": "2025-08-29T20:06:34.037885Z",
     "shell.execute_reply": "2025-08-29T20:06:34.036626Z"
    },
    "papermill": {
     "duration": 0.018547,
     "end_time": "2025-08-29T20:06:34.039955",
     "exception": false,
     "start_time": "2025-08-29T20:06:34.021408",
     "status": "completed"
    },
    "tags": []
   },
   "outputs": [],
   "source": [
    "# X = logit(oof_pred_probs.clip(1e-15, 1-1e-15))\n",
    "# X_test = logit(test_pred_probs.clip(1e-15, 1-1e-15))\n"
   ]
  },
  {
   "cell_type": "code",
   "execution_count": 45,
   "id": "a86fc324",
   "metadata": {
    "execution": {
     "iopub.execute_input": "2025-08-29T20:06:34.066095Z",
     "iopub.status.busy": "2025-08-29T20:06:34.064818Z",
     "iopub.status.idle": "2025-08-29T20:06:34.069557Z",
     "shell.execute_reply": "2025-08-29T20:06:34.068701Z"
    },
    "papermill": {
     "duration": 0.019227,
     "end_time": "2025-08-29T20:06:34.071370",
     "exception": false,
     "start_time": "2025-08-29T20:06:34.052143",
     "status": "completed"
    },
    "tags": []
   },
   "outputs": [],
   "source": [
    "# from sklearn.metrics import roc_auc_score\n",
    "# from koolbox import Trainer\n",
    "\n",
    "# class CFG:\n",
    "\n",
    "    \n",
    "#     n_folds = 7\n",
    "#     seed = 42\n",
    "    \n",
    "#     cv = StratifiedKFold(n_splits=n_folds, random_state=seed, shuffle=True)\n",
    "#     metric = roc_auc_score\n",
    "    \n",
    "#     n_optuna_trials = 200"
   ]
  },
  {
   "cell_type": "code",
   "execution_count": 46,
   "id": "3af59072",
   "metadata": {
    "execution": {
     "iopub.execute_input": "2025-08-29T20:06:34.095789Z",
     "iopub.status.busy": "2025-08-29T20:06:34.095387Z",
     "iopub.status.idle": "2025-08-29T20:06:34.100716Z",
     "shell.execute_reply": "2025-08-29T20:06:34.099753Z"
    },
    "papermill": {
     "duration": 0.019657,
     "end_time": "2025-08-29T20:06:34.102641",
     "exception": false,
     "start_time": "2025-08-29T20:06:34.082984",
     "status": "completed"
    },
    "tags": []
   },
   "outputs": [],
   "source": [
    "# def objective(trial):\n",
    "#     solver_penalty_options = [\n",
    "#         ('liblinear', 'l1'),\n",
    "#         ('liblinear', 'l2'),\n",
    "#         ('lbfgs', 'l2'),\n",
    "#         ('lbfgs', None),\n",
    "#         ('newton-cg', 'l2'),\n",
    "#         ('newton-cg', None),\n",
    "#         ('newton-cholesky', 'l2'),\n",
    "#         ('newton-cholesky', None)\n",
    "#     ]\n",
    "#     solver, penalty = trial.suggest_categorical('solver_penalty', solver_penalty_options)\n",
    "    \n",
    "#     params = {\n",
    "#         'random_state': CFG.seed,\n",
    "#         'max_iter': 1000,\n",
    "#         'C': trial.suggest_float('C', 0, 1),\n",
    "#         'tol': trial.suggest_float('tol', 1e-6, 1e-2),\n",
    "#         'fit_intercept': trial.suggest_categorical('fit_intercept', [True, False]),\n",
    "#         'class_weight': trial.suggest_categorical('class_weight', ['balanced', None]),\n",
    "#         'solver': solver,\n",
    "#         'penalty': penalty\n",
    "#     }\n",
    "    \n",
    "    \n",
    "#     trainer = Trainer(\n",
    "#         LogisticRegression(**params),\n",
    "#         cv=CFG.cv,\n",
    "#         metric=CFG.metric,\n",
    "#         metric_precision=6,\n",
    "#         use_early_stopping=False,\n",
    "#         verbose=False,\n",
    "#         task=\"binary\",\n",
    "#     )\n",
    "#     trainer.fit(pd.DataFrame(X), true)\n",
    "    \n",
    "#     return np.mean(trainer.fold_scores)\n",
    "\n",
    "# sampler = optuna.samplers.TPESampler(seed=CFG.seed, multivariate=True, n_startup_trials=CFG.n_optuna_trials // 10)\n",
    "# study = optuna.create_study(direction='maximize', sampler=sampler)\n",
    "# study.optimize(objective, n_trials=CFG.n_optuna_trials, n_jobs=-1)\n",
    "# best_params = study.best_params\n"
   ]
  },
  {
   "cell_type": "code",
   "execution_count": 47,
   "id": "df17469b",
   "metadata": {
    "execution": {
     "iopub.execute_input": "2025-08-29T20:06:34.126456Z",
     "iopub.status.busy": "2025-08-29T20:06:34.126091Z",
     "iopub.status.idle": "2025-08-29T20:06:34.130430Z",
     "shell.execute_reply": "2025-08-29T20:06:34.129557Z"
    },
    "papermill": {
     "duration": 0.01809,
     "end_time": "2025-08-29T20:06:34.131888",
     "exception": false,
     "start_time": "2025-08-29T20:06:34.113798",
     "status": "completed"
    },
    "tags": []
   },
   "outputs": [],
   "source": [
    "# solver, penalty = best_params['solver_penalty']\n",
    "# lr_params = {\n",
    "#     'random_state': CFG.seed,\n",
    "#     'max_iter': 1000,\n",
    "#     'C': best_params['C'],\n",
    "#     'tol': best_params['tol'],\n",
    "#     'fit_intercept': best_params['fit_intercept'],\n",
    "#     'class_weight': best_params['class_weight'],\n",
    "#     'solver': solver,\n",
    "#     'penalty': penalty\n",
    "# }"
   ]
  },
  {
   "cell_type": "code",
   "execution_count": 48,
   "id": "e8fd37d7",
   "metadata": {
    "execution": {
     "iopub.execute_input": "2025-08-29T20:06:34.155180Z",
     "iopub.status.busy": "2025-08-29T20:06:34.154796Z",
     "iopub.status.idle": "2025-08-29T20:06:34.159306Z",
     "shell.execute_reply": "2025-08-29T20:06:34.158339Z"
    },
    "papermill": {
     "duration": 0.01808,
     "end_time": "2025-08-29T20:06:34.161057",
     "exception": false,
     "start_time": "2025-08-29T20:06:34.142977",
     "status": "completed"
    },
    "tags": []
   },
   "outputs": [],
   "source": [
    "# lr_trainer = Trainer(\n",
    "#     LogisticRegression(**lr_params),\n",
    "#     cv=CFG.cv,\n",
    "#     metric=CFG.metric,\n",
    "#     metric_precision=6,\n",
    "#     use_early_stopping=False,\n",
    "#     task=\"binary\",\n",
    "# )\n",
    "\n",
    "# lr_trainer.fit(pd.DataFrame(X), true)\n",
    "\n",
    "# scores[\"LogisticRegression\"] = lr_trainer.fold_scores\n",
    "# lr_test_pred_probs = lr_trainer.predict(X_test)\n",
    "# print(np.mean(scores[\"LogisticRegression\"]))"
   ]
  },
  {
   "cell_type": "code",
   "execution_count": 49,
   "id": "ab877a63",
   "metadata": {
    "execution": {
     "iopub.execute_input": "2025-08-29T20:06:34.185752Z",
     "iopub.status.busy": "2025-08-29T20:06:34.185346Z",
     "iopub.status.idle": "2025-08-29T20:06:34.190101Z",
     "shell.execute_reply": "2025-08-29T20:06:34.189175Z"
    },
    "papermill": {
     "duration": 0.019112,
     "end_time": "2025-08-29T20:06:34.191811",
     "exception": false,
     "start_time": "2025-08-29T20:06:34.172699",
     "status": "completed"
    },
    "tags": []
   },
   "outputs": [],
   "source": [
    "# sub = pd.read_csv(\"/kaggle/input/playground-series-s5e8/sample_submission.csv\")\n",
    "# sub['y']=lr_test_pred_probs\n",
    "\n",
    "# sub.to_csv(\"submission.csv\",index=False)\n",
    "# sub.head()"
   ]
  },
  {
   "cell_type": "code",
   "execution_count": 50,
   "id": "9fe67858",
   "metadata": {
    "execution": {
     "iopub.execute_input": "2025-08-29T20:06:34.215974Z",
     "iopub.status.busy": "2025-08-29T20:06:34.215626Z",
     "iopub.status.idle": "2025-08-29T20:06:34.219770Z",
     "shell.execute_reply": "2025-08-29T20:06:34.218824Z"
    },
    "papermill": {
     "duration": 0.017826,
     "end_time": "2025-08-29T20:06:34.221474",
     "exception": false,
     "start_time": "2025-08-29T20:06:34.203648",
     "status": "completed"
    },
    "tags": []
   },
   "outputs": [],
   "source": [
    "# lr_ens=0.8*lr_test_pred_probs+0.2*prd_ens\n",
    "# sub = pd.read_csv(\"/kaggle/input/playground-series-s5e8/sample_submission.csv\")\n",
    "# sub['y']=lr_test_pred_probs\n",
    "\n",
    "# sub.to_csv(\"submission.csv\",index=False)\n",
    "# # sub.head()\n",
    "# sub2=pd.DataFrame(oof_pred_probs)\n",
    "# sub2.to_csv(\"oof_pred_probs.csv\",index=False)\n",
    "# lgb_importances.to_csv(\"lgb_importances.csv\",index=False)\n",
    "\n"
   ]
  },
  {
   "cell_type": "code",
   "execution_count": null,
   "id": "28c961d7",
   "metadata": {
    "papermill": {
     "duration": 0.010834,
     "end_time": "2025-08-29T20:06:34.243437",
     "exception": false,
     "start_time": "2025-08-29T20:06:34.232603",
     "status": "completed"
    },
    "tags": []
   },
   "outputs": [],
   "source": []
  }
 ],
 "metadata": {
  "kaggle": {
   "accelerator": "none",
   "dataSources": [
    {
     "databundleVersionId": 12937777,
     "sourceId": 91719,
     "sourceType": "competition"
    },
    {
     "datasetId": 5626665,
     "sourceId": 9293783,
     "sourceType": "datasetVersion"
    },
    {
     "sourceId": 255288576,
     "sourceType": "kernelVersion"
    }
   ],
   "dockerImageVersionId": 31090,
   "isGpuEnabled": false,
   "isInternetEnabled": true,
   "language": "python",
   "sourceType": "notebook"
  },
  "kernelspec": {
   "display_name": "Python 3",
   "language": "python",
   "name": "python3"
  },
  "language_info": {
   "codemirror_mode": {
    "name": "ipython",
    "version": 3
   },
   "file_extension": ".py",
   "mimetype": "text/x-python",
   "name": "python",
   "nbconvert_exporter": "python",
   "pygments_lexer": "ipython3",
   "version": "3.11.13"
  },
  "papermill": {
   "default_parameters": {},
   "duration": 723.350762,
   "end_time": "2025-08-29T20:06:36.736017",
   "environment_variables": {},
   "exception": null,
   "input_path": "__notebook__.ipynb",
   "output_path": "__notebook__.ipynb",
   "parameters": {},
   "start_time": "2025-08-29T19:54:33.385255",
   "version": "2.6.0"
  }
 },
 "nbformat": 4,
 "nbformat_minor": 5
}
